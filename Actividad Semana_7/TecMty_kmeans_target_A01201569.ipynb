{
 "cells": [
  {
   "cell_type": "markdown",
   "metadata": {
    "id": "6mUW5QNwhz5T"
   },
   "source": [
    "Este notebook se basa en información de target\n",
    "![imagen.png](https://www.america-retail.com/static//2020/12/target01.jpg)\n",
    "\n",
    "\n",
    "Ahora imagina que somos parte del equipo de data science de la empresa Target, una de las tiendas con mayor presencia en Estados Unidos. El departamento de logistica acude a nosotros para saber donde le conviene poner sus almacenes, para que se optimice el gasto de gasolina, los tiempos de entrega de los productos y se disminuyan costos. Para ello, nos pasan los datos de latitud y longitud de cada una de las tiendas.\n",
    "\n",
    "https://www.kaggle.com/datasets/saejinmahlauheinert/target-store-locations?select=target-locations.csv\n",
    "\n",
    "Si quieres saber un poco más de graficas geográficas consulta el siguiente notebook\n",
    "https://colab.research.google.com/github/QuantEcon/quantecon-notebooks-datascience/blob/master/applications/maps.ipynb#scrollTo=uo2oPtSCeAOz"
   ]
  },
  {
   "cell_type": "code",
   "execution_count": 1,
   "metadata": {
    "colab": {
     "base_uri": "https://localhost:8080/"
    },
    "id": "YwkfEqinwESD",
    "outputId": "4f3f59bb-a439-4cc0-bf4b-e86aa3702621"
   },
   "outputs": [
    {
     "name": "stdout",
     "output_type": "stream",
     "text": [
      "Requirement already satisfied: qeds in c:\\users\\testr\\anaconda3\\lib\\site-packages (0.7.0)\n",
      "Requirement already satisfied: fiona in c:\\users\\testr\\anaconda3\\lib\\site-packages (1.8.22)\n",
      "Requirement already satisfied: geopandas in c:\\users\\testr\\anaconda3\\lib\\site-packages (0.12.1)\n",
      "Requirement already satisfied: xgboost in c:\\users\\testr\\anaconda3\\lib\\site-packages (1.7.1)\n",
      "Requirement already satisfied: gensim in c:\\users\\testr\\anaconda3\\lib\\site-packages (4.1.2)\n",
      "Requirement already satisfied: folium in c:\\users\\testr\\anaconda3\\lib\\site-packages (0.13.0)\n",
      "Requirement already satisfied: pyLDAvis in c:\\users\\testr\\anaconda3\\lib\\site-packages (3.3.1)\n",
      "Requirement already satisfied: descartes in c:\\users\\testr\\anaconda3\\lib\\site-packages (1.1.0)\n",
      "Requirement already satisfied: pandas in c:\\users\\testr\\anaconda3\\lib\\site-packages (from qeds) (1.4.2)\n",
      "Requirement already satisfied: scikit-learn in c:\\users\\testr\\anaconda3\\lib\\site-packages (from qeds) (1.0.2)\n",
      "Requirement already satisfied: requests in c:\\users\\testr\\anaconda3\\lib\\site-packages (from qeds) (2.27.1)\n",
      "Requirement already satisfied: matplotlib in c:\\users\\testr\\anaconda3\\lib\\site-packages (from qeds) (3.5.1)\n",
      "Requirement already satisfied: statsmodels in c:\\users\\testr\\anaconda3\\lib\\site-packages (from qeds) (0.13.2)\n",
      "Requirement already satisfied: scipy in c:\\users\\testr\\anaconda3\\lib\\site-packages (from qeds) (1.7.3)\n",
      "Requirement already satisfied: pandas-datareader in c:\\users\\testr\\anaconda3\\lib\\site-packages (from qeds) (0.10.0)\n",
      "Requirement already satisfied: plotly in c:\\users\\testr\\anaconda3\\lib\\site-packages (from qeds) (5.6.0)\n",
      "Requirement already satisfied: seaborn in c:\\users\\testr\\anaconda3\\lib\\site-packages (from qeds) (0.11.2)\n",
      "Requirement already satisfied: quandl in c:\\users\\testr\\anaconda3\\lib\\site-packages (from qeds) (3.7.0)\n",
      "Requirement already satisfied: openpyxl in c:\\users\\testr\\anaconda3\\lib\\site-packages (from qeds) (3.0.9)\n",
      "Requirement already satisfied: numpy in c:\\users\\testr\\anaconda3\\lib\\site-packages (from qeds) (1.21.5)\n",
      "Requirement already satisfied: quantecon in c:\\users\\testr\\anaconda3\\lib\\site-packages (from qeds) (0.5.3)\n",
      "Requirement already satisfied: pyarrow in c:\\users\\testr\\anaconda3\\lib\\site-packages (from qeds) (10.0.0)\n",
      "Requirement already satisfied: six>=1.7 in c:\\users\\testr\\anaconda3\\lib\\site-packages (from fiona) (1.16.0)\n",
      "Requirement already satisfied: attrs>=17 in c:\\users\\testr\\anaconda3\\lib\\site-packages (from fiona) (21.4.0)\n",
      "Requirement already satisfied: cligj>=0.5 in c:\\users\\testr\\anaconda3\\lib\\site-packages (from fiona) (0.7.2)\n",
      "Requirement already satisfied: setuptools in c:\\users\\testr\\anaconda3\\lib\\site-packages (from fiona) (61.2.0)\n",
      "Requirement already satisfied: click>=4.0 in c:\\users\\testr\\anaconda3\\lib\\site-packages (from fiona) (8.0.4)\n",
      "Requirement already satisfied: munch in c:\\users\\testr\\anaconda3\\lib\\site-packages (from fiona) (2.5.0)\n",
      "Requirement already satisfied: click-plugins>=1.0 in c:\\users\\testr\\anaconda3\\lib\\site-packages (from fiona) (1.1.1)\n",
      "Requirement already satisfied: certifi in c:\\users\\testr\\anaconda3\\lib\\site-packages (from fiona) (2021.10.8)\n",
      "Requirement already satisfied: packaging in c:\\users\\testr\\anaconda3\\lib\\site-packages (from geopandas) (21.3)\n",
      "Requirement already satisfied: shapely>=1.7 in c:\\users\\testr\\anaconda3\\lib\\site-packages (from geopandas) (1.8.5.post1)\n",
      "Requirement already satisfied: pyproj>=2.6.1.post1 in c:\\users\\testr\\anaconda3\\lib\\site-packages (from geopandas) (3.4.0)\n",
      "Requirement already satisfied: smart-open>=1.8.1 in c:\\users\\testr\\anaconda3\\lib\\site-packages (from gensim) (5.1.0)\n",
      "Requirement already satisfied: jinja2>=2.9 in c:\\users\\testr\\anaconda3\\lib\\site-packages (from folium) (2.11.3)\n",
      "Requirement already satisfied: branca>=0.3.0 in c:\\users\\testr\\anaconda3\\lib\\site-packages (from folium) (0.6.0)\n",
      "Requirement already satisfied: joblib in c:\\users\\testr\\anaconda3\\lib\\site-packages (from pyLDAvis) (1.1.0)\n",
      "Requirement already satisfied: numexpr in c:\\users\\testr\\anaconda3\\lib\\site-packages (from pyLDAvis) (2.8.1)\n",
      "Requirement already satisfied: funcy in c:\\users\\testr\\anaconda3\\lib\\site-packages (from pyLDAvis) (1.17)\n",
      "Requirement already satisfied: sklearn in c:\\users\\testr\\anaconda3\\lib\\site-packages (from pyLDAvis) (0.0.post1)\n",
      "Requirement already satisfied: future in c:\\users\\testr\\anaconda3\\lib\\site-packages (from pyLDAvis) (0.18.2)\n",
      "Requirement already satisfied: colorama in c:\\users\\testr\\anaconda3\\lib\\site-packages (from click>=4.0->fiona) (0.4.4)\n",
      "Requirement already satisfied: MarkupSafe>=0.23 in c:\\users\\testr\\anaconda3\\lib\\site-packages (from jinja2>=2.9->folium) (2.0.1)\n",
      "Requirement already satisfied: python-dateutil>=2.8.1 in c:\\users\\testr\\anaconda3\\lib\\site-packages (from pandas->qeds) (2.8.2)\n",
      "Requirement already satisfied: pytz>=2020.1 in c:\\users\\testr\\anaconda3\\lib\\site-packages (from pandas->qeds) (2021.3)\n",
      "Requirement already satisfied: cycler>=0.10 in c:\\users\\testr\\anaconda3\\lib\\site-packages (from matplotlib->qeds) (0.11.0)\n",
      "Requirement already satisfied: pillow>=6.2.0 in c:\\users\\testr\\anaconda3\\lib\\site-packages (from matplotlib->qeds) (9.0.1)\n",
      "Requirement already satisfied: kiwisolver>=1.0.1 in c:\\users\\testr\\anaconda3\\lib\\site-packages (from matplotlib->qeds) (1.3.2)\n",
      "Requirement already satisfied: fonttools>=4.22.0 in c:\\users\\testr\\anaconda3\\lib\\site-packages (from matplotlib->qeds) (4.25.0)\n",
      "Requirement already satisfied: pyparsing>=2.2.1 in c:\\users\\testr\\anaconda3\\lib\\site-packages (from matplotlib->qeds) (3.0.4)\n",
      "Requirement already satisfied: et-xmlfile in c:\\users\\testr\\anaconda3\\lib\\site-packages (from openpyxl->qeds) (1.1.0)\n",
      "Requirement already satisfied: lxml in c:\\users\\testr\\anaconda3\\lib\\site-packages (from pandas-datareader->qeds) (4.8.0)\n",
      "Requirement already satisfied: idna<4,>=2.5 in c:\\users\\testr\\anaconda3\\lib\\site-packages (from requests->qeds) (3.3)\n",
      "Requirement already satisfied: charset-normalizer~=2.0.0 in c:\\users\\testr\\anaconda3\\lib\\site-packages (from requests->qeds) (2.0.4)\n",
      "Requirement already satisfied: urllib3<1.27,>=1.21.1 in c:\\users\\testr\\anaconda3\\lib\\site-packages (from requests->qeds) (1.26.9)\n",
      "Requirement already satisfied: tenacity>=6.2.0 in c:\\users\\testr\\anaconda3\\lib\\site-packages (from plotly->qeds) (8.0.1)\n",
      "Requirement already satisfied: inflection>=0.3.1 in c:\\users\\testr\\anaconda3\\lib\\site-packages (from quandl->qeds) (0.5.1)\n",
      "Requirement already satisfied: more-itertools in c:\\users\\testr\\anaconda3\\lib\\site-packages (from quandl->qeds) (9.0.0)\n",
      "Requirement already satisfied: numba in c:\\users\\testr\\anaconda3\\lib\\site-packages (from quantecon->qeds) (0.55.1)\n",
      "Requirement already satisfied: sympy in c:\\users\\testr\\anaconda3\\lib\\site-packages (from quantecon->qeds) (1.10.1)\n",
      "Requirement already satisfied: llvmlite<0.39,>=0.38.0rc1 in c:\\users\\testr\\anaconda3\\lib\\site-packages (from numba->quantecon->qeds) (0.38.0)\n",
      "Requirement already satisfied: threadpoolctl>=2.0.0 in c:\\users\\testr\\anaconda3\\lib\\site-packages (from scikit-learn->qeds) (2.2.0)\n",
      "Requirement already satisfied: patsy>=0.5.2 in c:\\users\\testr\\anaconda3\\lib\\site-packages (from statsmodels->qeds) (0.5.2)\n",
      "Requirement already satisfied: mpmath>=0.19 in c:\\users\\testr\\anaconda3\\lib\\site-packages (from sympy->quantecon->qeds) (1.2.1)\n"
     ]
    }
   ],
   "source": [
    "! pip install qeds fiona geopandas xgboost gensim folium pyLDAvis descartes"
   ]
  },
  {
   "cell_type": "code",
   "execution_count": 2,
   "metadata": {
    "id": "WBpdGjbquQii"
   },
   "outputs": [],
   "source": [
    "import pandas as pd\n",
    "import numpy as np\n",
    "from tqdm import tqdm\n",
    "%matplotlib inline\n",
    "import numpy as np\n",
    "import matplotlib.pyplot as plt\n",
    "import geopandas\n",
    "\n",
    "from pandas.core.internals.concat import concat_arrays\n"
   ]
  },
  {
   "cell_type": "code",
   "execution_count": 3,
   "metadata": {},
   "outputs": [
    {
     "name": "stdout",
     "output_type": "stream",
     "text": [
      "Requirement already satisfied: geopy in c:\\users\\testr\\anaconda3\\lib\\site-packages (2.2.0)\n",
      "Requirement already satisfied: geographiclib<2,>=1.49 in c:\\users\\testr\\anaconda3\\lib\\site-packages (from geopy) (1.52)\n"
     ]
    }
   ],
   "source": [
    "!pip install geopy"
   ]
  },
  {
   "cell_type": "markdown",
   "metadata": {
    "id": "KNTIoZlGvPum"
   },
   "source": [
    "Importa la base de datos"
   ]
  },
  {
   "cell_type": "code",
   "execution_count": 4,
   "metadata": {
    "id": "PAJWHRVN781V"
   },
   "outputs": [],
   "source": [
    "url=\"https://raw.githubusercontent.com/marypazrf/bdd/main/target-locations.csv\"\n",
    "df=pd.read_csv(url)"
   ]
  },
  {
   "cell_type": "markdown",
   "metadata": {
    "id": "sH4hvPAYvUGY"
   },
   "source": [
    "Exploremos los datos."
   ]
  },
  {
   "cell_type": "code",
   "execution_count": 5,
   "metadata": {
    "colab": {
     "base_uri": "https://localhost:8080/",
     "height": 206
    },
    "id": "DuzNp7KseyBg",
    "outputId": "9d08c3b6-e45a-4175-b61f-f84fbb9e3704"
   },
   "outputs": [
    {
     "data": {
      "text/html": [
       "<div>\n",
       "<style scoped>\n",
       "    .dataframe tbody tr th:only-of-type {\n",
       "        vertical-align: middle;\n",
       "    }\n",
       "\n",
       "    .dataframe tbody tr th {\n",
       "        vertical-align: top;\n",
       "    }\n",
       "\n",
       "    .dataframe thead th {\n",
       "        text-align: right;\n",
       "    }\n",
       "</style>\n",
       "<table border=\"1\" class=\"dataframe\">\n",
       "  <thead>\n",
       "    <tr style=\"text-align: right;\">\n",
       "      <th></th>\n",
       "      <th>name</th>\n",
       "      <th>latitude</th>\n",
       "      <th>longitude</th>\n",
       "      <th>address</th>\n",
       "      <th>phone</th>\n",
       "      <th>website</th>\n",
       "    </tr>\n",
       "  </thead>\n",
       "  <tbody>\n",
       "    <tr>\n",
       "      <th>0</th>\n",
       "      <td>Alabaster</td>\n",
       "      <td>33.224225</td>\n",
       "      <td>-86.804174</td>\n",
       "      <td>250 S Colonial Dr, Alabaster, AL 35007-4657</td>\n",
       "      <td>205-564-2608</td>\n",
       "      <td>https://www.target.com/sl/alabaster/2276</td>\n",
       "    </tr>\n",
       "    <tr>\n",
       "      <th>1</th>\n",
       "      <td>Bessemer</td>\n",
       "      <td>33.334550</td>\n",
       "      <td>-86.989778</td>\n",
       "      <td>4889 Promenade Pkwy, Bessemer, AL 35022-7305</td>\n",
       "      <td>205-565-3760</td>\n",
       "      <td>https://www.target.com/sl/bessemer/2375</td>\n",
       "    </tr>\n",
       "    <tr>\n",
       "      <th>2</th>\n",
       "      <td>Daphne</td>\n",
       "      <td>30.602875</td>\n",
       "      <td>-87.895932</td>\n",
       "      <td>1698 US Highway 98, Daphne, AL 36526-4252</td>\n",
       "      <td>251-621-3540</td>\n",
       "      <td>https://www.target.com/sl/daphne/1274</td>\n",
       "    </tr>\n",
       "    <tr>\n",
       "      <th>3</th>\n",
       "      <td>Decatur</td>\n",
       "      <td>34.560148</td>\n",
       "      <td>-86.971559</td>\n",
       "      <td>1235 Point Mallard Pkwy SE, Decatur, AL 35601-...</td>\n",
       "      <td>256-898-3036</td>\n",
       "      <td>https://www.target.com/sl/decatur/2084</td>\n",
       "    </tr>\n",
       "    <tr>\n",
       "      <th>4</th>\n",
       "      <td>Dothan</td>\n",
       "      <td>31.266061</td>\n",
       "      <td>-85.446422</td>\n",
       "      <td>4601 Montgomery Hwy, Dothan, AL 36303-1522</td>\n",
       "      <td>334-340-1112</td>\n",
       "      <td>https://www.target.com/sl/dothan/1468</td>\n",
       "    </tr>\n",
       "  </tbody>\n",
       "</table>\n",
       "</div>"
      ],
      "text/plain": [
       "        name   latitude  longitude  \\\n",
       "0  Alabaster  33.224225 -86.804174   \n",
       "1   Bessemer  33.334550 -86.989778   \n",
       "2     Daphne  30.602875 -87.895932   \n",
       "3    Decatur  34.560148 -86.971559   \n",
       "4     Dothan  31.266061 -85.446422   \n",
       "\n",
       "                                             address         phone  \\\n",
       "0        250 S Colonial Dr, Alabaster, AL 35007-4657  205-564-2608   \n",
       "1       4889 Promenade Pkwy, Bessemer, AL 35022-7305  205-565-3760   \n",
       "2          1698 US Highway 98, Daphne, AL 36526-4252  251-621-3540   \n",
       "3  1235 Point Mallard Pkwy SE, Decatur, AL 35601-...  256-898-3036   \n",
       "4         4601 Montgomery Hwy, Dothan, AL 36303-1522  334-340-1112   \n",
       "\n",
       "                                    website  \n",
       "0  https://www.target.com/sl/alabaster/2276  \n",
       "1   https://www.target.com/sl/bessemer/2375  \n",
       "2     https://www.target.com/sl/daphne/1274  \n",
       "3    https://www.target.com/sl/decatur/2084  \n",
       "4     https://www.target.com/sl/dothan/1468  "
      ]
     },
     "execution_count": 5,
     "metadata": {},
     "output_type": "execute_result"
    }
   ],
   "source": [
    "\n",
    "df.head()\n"
   ]
  },
  {
   "cell_type": "code",
   "execution_count": 6,
   "metadata": {
    "colab": {
     "base_uri": "https://localhost:8080/"
    },
    "id": "MxbhdLkavl7Q",
    "outputId": "a8717c27-b24d-4d71-9153-3f94ee0db339"
   },
   "outputs": [
    {
     "name": "stdout",
     "output_type": "stream",
     "text": [
      "<class 'pandas.core.frame.DataFrame'>\n",
      "RangeIndex: 1839 entries, 0 to 1838\n",
      "Data columns (total 6 columns):\n",
      " #   Column     Non-Null Count  Dtype  \n",
      "---  ------     --------------  -----  \n",
      " 0   name       1839 non-null   object \n",
      " 1   latitude   1839 non-null   float64\n",
      " 2   longitude  1839 non-null   float64\n",
      " 3   address    1839 non-null   object \n",
      " 4   phone      1839 non-null   object \n",
      " 5   website    1839 non-null   object \n",
      "dtypes: float64(2), object(4)\n",
      "memory usage: 86.3+ KB\n"
     ]
    }
   ],
   "source": [
    "df.info()"
   ]
  },
  {
   "cell_type": "markdown",
   "metadata": {
    "id": "cpfqKT4qxAZz"
   },
   "source": [
    "**Definición de Latitud y Longitud**\n",
    "\n",
    "**Latitud** Es la distancia en grados, minutos y segundos que hay con respecto al paralelo principal, que es el ecuador (0º). La latitud puede ser norte y sur.\n",
    "\n",
    "**Longitud**: Es la distancia en grados, minutos y segundos que hay con respecto al meridiano principal, que es el meridiano de Greenwich (0º).La longitud puede ser este y oeste."
   ]
  },
  {
   "cell_type": "code",
   "execution_count": 7,
   "metadata": {
    "id": "oPzX3DGju0As"
   },
   "outputs": [],
   "source": [
    "latlong=df[[\"latitude\",\"longitude\"]]"
   ]
  },
  {
   "cell_type": "code",
   "execution_count": null,
   "metadata": {
    "id": "n4QKgxn4e6V0"
   },
   "outputs": [],
   "source": []
  },
  {
   "cell_type": "markdown",
   "metadata": {
    "id": "gMk6UVE2e67y"
   },
   "source": [
    "¡Visualizemos los datos!, para empezar a notar algún patron. \n",
    "\n",
    "A simple vista pudieramos pensar que tenemos algunos datos atípicos u outliers, pero .... no es así, simplemente esta grafica no nos está dando toda la información."
   ]
  },
  {
   "cell_type": "code",
   "execution_count": 8,
   "metadata": {
    "colab": {
     "base_uri": "https://localhost:8080/",
     "height": 297
    },
    "id": "-QZRqKiDfj2J",
    "outputId": "a58414cd-78fd-4d51-d02e-0abbc46caeee"
   },
   "outputs": [
    {
     "data": {
      "text/plain": [
       "<AxesSubplot:xlabel='longitude', ylabel='latitude'>"
      ]
     },
     "execution_count": 8,
     "metadata": {},
     "output_type": "execute_result"
    },
    {
     "data": {
      "image/png": "[encoded data removed]",
      "text/plain": [
       "<Figure size 432x288 with 1 Axes>"
      ]
     },
     "metadata": {
      "needs_background": "light"
     },
     "output_type": "display_data"
    }
   ],
   "source": [
    "#extrae los datos interesantes\n",
    "latlong.plot.scatter( \"longitude\",\"latitude\")"
   ]
  },
  {
   "cell_type": "code",
   "execution_count": 9,
   "metadata": {
    "colab": {
     "base_uri": "https://localhost:8080/",
     "height": 300
    },
    "id": "O6b3QguyyjM_",
    "outputId": "3acf887d-944c-4cf0-849d-471fa614c795"
   },
   "outputs": [
    {
     "data": {
      "text/html": [
       "<div>\n",
       "<style scoped>\n",
       "    .dataframe tbody tr th:only-of-type {\n",
       "        vertical-align: middle;\n",
       "    }\n",
       "\n",
       "    .dataframe tbody tr th {\n",
       "        vertical-align: top;\n",
       "    }\n",
       "\n",
       "    .dataframe thead th {\n",
       "        text-align: right;\n",
       "    }\n",
       "</style>\n",
       "<table border=\"1\" class=\"dataframe\">\n",
       "  <thead>\n",
       "    <tr style=\"text-align: right;\">\n",
       "      <th></th>\n",
       "      <th>latitude</th>\n",
       "      <th>longitude</th>\n",
       "    </tr>\n",
       "  </thead>\n",
       "  <tbody>\n",
       "    <tr>\n",
       "      <th>count</th>\n",
       "      <td>1839.000000</td>\n",
       "      <td>1839.000000</td>\n",
       "    </tr>\n",
       "    <tr>\n",
       "      <th>mean</th>\n",
       "      <td>37.791238</td>\n",
       "      <td>-91.986881</td>\n",
       "    </tr>\n",
       "    <tr>\n",
       "      <th>std</th>\n",
       "      <td>5.272299</td>\n",
       "      <td>16.108046</td>\n",
       "    </tr>\n",
       "    <tr>\n",
       "      <th>min</th>\n",
       "      <td>19.647855</td>\n",
       "      <td>-159.376962</td>\n",
       "    </tr>\n",
       "    <tr>\n",
       "      <th>25%</th>\n",
       "      <td>33.882605</td>\n",
       "      <td>-98.268828</td>\n",
       "    </tr>\n",
       "    <tr>\n",
       "      <th>50%</th>\n",
       "      <td>38.955432</td>\n",
       "      <td>-87.746346</td>\n",
       "    </tr>\n",
       "    <tr>\n",
       "      <th>75%</th>\n",
       "      <td>41.658341</td>\n",
       "      <td>-80.084833</td>\n",
       "    </tr>\n",
       "    <tr>\n",
       "      <th>max</th>\n",
       "      <td>61.577919</td>\n",
       "      <td>-68.742331</td>\n",
       "    </tr>\n",
       "  </tbody>\n",
       "</table>\n",
       "</div>"
      ],
      "text/plain": [
       "          latitude    longitude\n",
       "count  1839.000000  1839.000000\n",
       "mean     37.791238   -91.986881\n",
       "std       5.272299    16.108046\n",
       "min      19.647855  -159.376962\n",
       "25%      33.882605   -98.268828\n",
       "50%      38.955432   -87.746346\n",
       "75%      41.658341   -80.084833\n",
       "max      61.577919   -68.742331"
      ]
     },
     "execution_count": 9,
     "metadata": {},
     "output_type": "execute_result"
    }
   ],
   "source": [
    "latlong.describe()"
   ]
  },
  {
   "cell_type": "markdown",
   "metadata": {
    "id": "hkPMyAyIDunz"
   },
   "source": [
    "Para entender un poco más, nos auxiliaremos de una librería para graficar datos geográficos. Esto nos ayudara a tener un mejor entendimiento de ellos.\n",
    "\n",
    "\n"
   ]
  },
  {
   "cell_type": "code",
   "execution_count": 10,
   "metadata": {
    "id": "_blyM4esyJTu"
   },
   "outputs": [],
   "source": [
    "import geopandas as gpd\n",
    "import matplotlib.pyplot as plt\n",
    "import pandas as pd\n",
    "\n",
    "from shapely.geometry import Point\n",
    "\n",
    "%matplotlib inline\n",
    "# activate plot theme\n",
    "import qeds\n",
    "qeds.themes.mpl_style();"
   ]
  },
  {
   "cell_type": "code",
   "execution_count": 11,
   "metadata": {
    "colab": {
     "base_uri": "https://localhost:8080/",
     "height": 206
    },
    "id": "01i0TciKfPco",
    "outputId": "3662ce4c-9349-4aba-fc07-e8d4c3eac83a"
   },
   "outputs": [
    {
     "data": {
      "text/html": [
       "<div>\n",
       "<style scoped>\n",
       "    .dataframe tbody tr th:only-of-type {\n",
       "        vertical-align: middle;\n",
       "    }\n",
       "\n",
       "    .dataframe tbody tr th {\n",
       "        vertical-align: top;\n",
       "    }\n",
       "\n",
       "    .dataframe thead th {\n",
       "        text-align: right;\n",
       "    }\n",
       "</style>\n",
       "<table border=\"1\" class=\"dataframe\">\n",
       "  <thead>\n",
       "    <tr style=\"text-align: right;\">\n",
       "      <th></th>\n",
       "      <th>name</th>\n",
       "      <th>latitude</th>\n",
       "      <th>longitude</th>\n",
       "      <th>address</th>\n",
       "      <th>phone</th>\n",
       "      <th>website</th>\n",
       "      <th>Coordinates</th>\n",
       "    </tr>\n",
       "  </thead>\n",
       "  <tbody>\n",
       "    <tr>\n",
       "      <th>0</th>\n",
       "      <td>Alabaster</td>\n",
       "      <td>33.224225</td>\n",
       "      <td>-86.804174</td>\n",
       "      <td>250 S Colonial Dr, Alabaster, AL 35007-4657</td>\n",
       "      <td>205-564-2608</td>\n",
       "      <td>https://www.target.com/sl/alabaster/2276</td>\n",
       "      <td>POINT (-86.80417369999999 33.2242254)</td>\n",
       "    </tr>\n",
       "    <tr>\n",
       "      <th>1</th>\n",
       "      <td>Bessemer</td>\n",
       "      <td>33.334550</td>\n",
       "      <td>-86.989778</td>\n",
       "      <td>4889 Promenade Pkwy, Bessemer, AL 35022-7305</td>\n",
       "      <td>205-565-3760</td>\n",
       "      <td>https://www.target.com/sl/bessemer/2375</td>\n",
       "      <td>POINT (-86.98977789999999 33.3345501)</td>\n",
       "    </tr>\n",
       "    <tr>\n",
       "      <th>2</th>\n",
       "      <td>Daphne</td>\n",
       "      <td>30.602875</td>\n",
       "      <td>-87.895932</td>\n",
       "      <td>1698 US Highway 98, Daphne, AL 36526-4252</td>\n",
       "      <td>251-621-3540</td>\n",
       "      <td>https://www.target.com/sl/daphne/1274</td>\n",
       "      <td>POINT (-87.89593169999999 30.6028747)</td>\n",
       "    </tr>\n",
       "    <tr>\n",
       "      <th>3</th>\n",
       "      <td>Decatur</td>\n",
       "      <td>34.560148</td>\n",
       "      <td>-86.971559</td>\n",
       "      <td>1235 Point Mallard Pkwy SE, Decatur, AL 35601-...</td>\n",
       "      <td>256-898-3036</td>\n",
       "      <td>https://www.target.com/sl/decatur/2084</td>\n",
       "      <td>POINT (-86.9715595 34.5601477)</td>\n",
       "    </tr>\n",
       "    <tr>\n",
       "      <th>4</th>\n",
       "      <td>Dothan</td>\n",
       "      <td>31.266061</td>\n",
       "      <td>-85.446422</td>\n",
       "      <td>4601 Montgomery Hwy, Dothan, AL 36303-1522</td>\n",
       "      <td>334-340-1112</td>\n",
       "      <td>https://www.target.com/sl/dothan/1468</td>\n",
       "      <td>POINT (-85.4464222 31.2660613)</td>\n",
       "    </tr>\n",
       "  </tbody>\n",
       "</table>\n",
       "</div>"
      ],
      "text/plain": [
       "        name   latitude  longitude  \\\n",
       "0  Alabaster  33.224225 -86.804174   \n",
       "1   Bessemer  33.334550 -86.989778   \n",
       "2     Daphne  30.602875 -87.895932   \n",
       "3    Decatur  34.560148 -86.971559   \n",
       "4     Dothan  31.266061 -85.446422   \n",
       "\n",
       "                                             address         phone  \\\n",
       "0        250 S Colonial Dr, Alabaster, AL 35007-4657  205-564-2608   \n",
       "1       4889 Promenade Pkwy, Bessemer, AL 35022-7305  205-565-3760   \n",
       "2          1698 US Highway 98, Daphne, AL 36526-4252  251-621-3540   \n",
       "3  1235 Point Mallard Pkwy SE, Decatur, AL 35601-...  256-898-3036   \n",
       "4         4601 Montgomery Hwy, Dothan, AL 36303-1522  334-340-1112   \n",
       "\n",
       "                                    website  \\\n",
       "0  https://www.target.com/sl/alabaster/2276   \n",
       "1   https://www.target.com/sl/bessemer/2375   \n",
       "2     https://www.target.com/sl/daphne/1274   \n",
       "3    https://www.target.com/sl/decatur/2084   \n",
       "4     https://www.target.com/sl/dothan/1468   \n",
       "\n",
       "                             Coordinates  \n",
       "0  POINT (-86.80417369999999 33.2242254)  \n",
       "1  POINT (-86.98977789999999 33.3345501)  \n",
       "2  POINT (-87.89593169999999 30.6028747)  \n",
       "3         POINT (-86.9715595 34.5601477)  \n",
       "4         POINT (-85.4464222 31.2660613)  "
      ]
     },
     "execution_count": 11,
     "metadata": {},
     "output_type": "execute_result"
    }
   ],
   "source": [
    "df[\"Coordinates\"] = list(zip(df.longitude, df.latitude))\n",
    "df[\"Coordinates\"] = df[\"Coordinates\"].apply(Point)\n",
    "df.head()"
   ]
  },
  {
   "cell_type": "code",
   "execution_count": 12,
   "metadata": {
    "colab": {
     "base_uri": "https://localhost:8080/",
     "height": 206
    },
    "id": "SBTBrsvlfIU_",
    "outputId": "f25de2e3-840d-4945-a174-eea2fa7f441d"
   },
   "outputs": [
    {
     "data": {
      "text/html": [
       "<div>\n",
       "<style scoped>\n",
       "    .dataframe tbody tr th:only-of-type {\n",
       "        vertical-align: middle;\n",
       "    }\n",
       "\n",
       "    .dataframe tbody tr th {\n",
       "        vertical-align: top;\n",
       "    }\n",
       "\n",
       "    .dataframe thead th {\n",
       "        text-align: right;\n",
       "    }\n",
       "</style>\n",
       "<table border=\"1\" class=\"dataframe\">\n",
       "  <thead>\n",
       "    <tr style=\"text-align: right;\">\n",
       "      <th></th>\n",
       "      <th>name</th>\n",
       "      <th>latitude</th>\n",
       "      <th>longitude</th>\n",
       "      <th>address</th>\n",
       "      <th>phone</th>\n",
       "      <th>website</th>\n",
       "      <th>Coordinates</th>\n",
       "    </tr>\n",
       "  </thead>\n",
       "  <tbody>\n",
       "    <tr>\n",
       "      <th>0</th>\n",
       "      <td>Alabaster</td>\n",
       "      <td>33.224225</td>\n",
       "      <td>-86.804174</td>\n",
       "      <td>250 S Colonial Dr, Alabaster, AL 35007-4657</td>\n",
       "      <td>205-564-2608</td>\n",
       "      <td>https://www.target.com/sl/alabaster/2276</td>\n",
       "      <td>POINT (-86.80417 33.22423)</td>\n",
       "    </tr>\n",
       "    <tr>\n",
       "      <th>1</th>\n",
       "      <td>Bessemer</td>\n",
       "      <td>33.334550</td>\n",
       "      <td>-86.989778</td>\n",
       "      <td>4889 Promenade Pkwy, Bessemer, AL 35022-7305</td>\n",
       "      <td>205-565-3760</td>\n",
       "      <td>https://www.target.com/sl/bessemer/2375</td>\n",
       "      <td>POINT (-86.98978 33.33455)</td>\n",
       "    </tr>\n",
       "    <tr>\n",
       "      <th>2</th>\n",
       "      <td>Daphne</td>\n",
       "      <td>30.602875</td>\n",
       "      <td>-87.895932</td>\n",
       "      <td>1698 US Highway 98, Daphne, AL 36526-4252</td>\n",
       "      <td>251-621-3540</td>\n",
       "      <td>https://www.target.com/sl/daphne/1274</td>\n",
       "      <td>POINT (-87.89593 30.60287)</td>\n",
       "    </tr>\n",
       "    <tr>\n",
       "      <th>3</th>\n",
       "      <td>Decatur</td>\n",
       "      <td>34.560148</td>\n",
       "      <td>-86.971559</td>\n",
       "      <td>1235 Point Mallard Pkwy SE, Decatur, AL 35601-...</td>\n",
       "      <td>256-898-3036</td>\n",
       "      <td>https://www.target.com/sl/decatur/2084</td>\n",
       "      <td>POINT (-86.97156 34.56015)</td>\n",
       "    </tr>\n",
       "    <tr>\n",
       "      <th>4</th>\n",
       "      <td>Dothan</td>\n",
       "      <td>31.266061</td>\n",
       "      <td>-85.446422</td>\n",
       "      <td>4601 Montgomery Hwy, Dothan, AL 36303-1522</td>\n",
       "      <td>334-340-1112</td>\n",
       "      <td>https://www.target.com/sl/dothan/1468</td>\n",
       "      <td>POINT (-85.44642 31.26606)</td>\n",
       "    </tr>\n",
       "  </tbody>\n",
       "</table>\n",
       "</div>"
      ],
      "text/plain": [
       "        name   latitude  longitude  \\\n",
       "0  Alabaster  33.224225 -86.804174   \n",
       "1   Bessemer  33.334550 -86.989778   \n",
       "2     Daphne  30.602875 -87.895932   \n",
       "3    Decatur  34.560148 -86.971559   \n",
       "4     Dothan  31.266061 -85.446422   \n",
       "\n",
       "                                             address         phone  \\\n",
       "0        250 S Colonial Dr, Alabaster, AL 35007-4657  205-564-2608   \n",
       "1       4889 Promenade Pkwy, Bessemer, AL 35022-7305  205-565-3760   \n",
       "2          1698 US Highway 98, Daphne, AL 36526-4252  251-621-3540   \n",
       "3  1235 Point Mallard Pkwy SE, Decatur, AL 35601-...  256-898-3036   \n",
       "4         4601 Montgomery Hwy, Dothan, AL 36303-1522  334-340-1112   \n",
       "\n",
       "                                    website                 Coordinates  \n",
       "0  https://www.target.com/sl/alabaster/2276  POINT (-86.80417 33.22423)  \n",
       "1   https://www.target.com/sl/bessemer/2375  POINT (-86.98978 33.33455)  \n",
       "2     https://www.target.com/sl/daphne/1274  POINT (-87.89593 30.60287)  \n",
       "3    https://www.target.com/sl/decatur/2084  POINT (-86.97156 34.56015)  \n",
       "4     https://www.target.com/sl/dothan/1468  POINT (-85.44642 31.26606)  "
      ]
     },
     "execution_count": 12,
     "metadata": {},
     "output_type": "execute_result"
    }
   ],
   "source": [
    "gdf = gpd.GeoDataFrame(df, geometry=\"Coordinates\")\n",
    "gdf.head()"
   ]
  },
  {
   "cell_type": "code",
   "execution_count": 13,
   "metadata": {
    "colab": {
     "base_uri": "https://localhost:8080/",
     "height": 237
    },
    "id": "wB6Jkrvbfef1",
    "outputId": "1ea8bb73-a723-4998-98a6-e0ee92deaa31"
   },
   "outputs": [
    {
     "data": {
      "text/html": [
       "<div>\n",
       "<style scoped>\n",
       "    .dataframe tbody tr th:only-of-type {\n",
       "        vertical-align: middle;\n",
       "    }\n",
       "\n",
       "    .dataframe tbody tr th {\n",
       "        vertical-align: top;\n",
       "    }\n",
       "\n",
       "    .dataframe thead th {\n",
       "        text-align: right;\n",
       "    }\n",
       "</style>\n",
       "<table border=\"1\" class=\"dataframe\">\n",
       "  <thead>\n",
       "    <tr style=\"text-align: right;\">\n",
       "      <th></th>\n",
       "      <th>pop_est</th>\n",
       "      <th>continent</th>\n",
       "      <th>name</th>\n",
       "      <th>gdp_md_est</th>\n",
       "      <th>geometry</th>\n",
       "    </tr>\n",
       "    <tr>\n",
       "      <th>iso_a3</th>\n",
       "      <th></th>\n",
       "      <th></th>\n",
       "      <th></th>\n",
       "      <th></th>\n",
       "      <th></th>\n",
       "    </tr>\n",
       "  </thead>\n",
       "  <tbody>\n",
       "    <tr>\n",
       "      <th>FJI</th>\n",
       "      <td>889953.0</td>\n",
       "      <td>Oceania</td>\n",
       "      <td>Fiji</td>\n",
       "      <td>5496</td>\n",
       "      <td>MULTIPOLYGON (((180.00000 -16.06713, 180.00000...</td>\n",
       "    </tr>\n",
       "    <tr>\n",
       "      <th>TZA</th>\n",
       "      <td>58005463.0</td>\n",
       "      <td>Africa</td>\n",
       "      <td>Tanzania</td>\n",
       "      <td>63177</td>\n",
       "      <td>POLYGON ((33.90371 -0.95000, 34.07262 -1.05982...</td>\n",
       "    </tr>\n",
       "    <tr>\n",
       "      <th>ESH</th>\n",
       "      <td>603253.0</td>\n",
       "      <td>Africa</td>\n",
       "      <td>W. Sahara</td>\n",
       "      <td>907</td>\n",
       "      <td>POLYGON ((-8.66559 27.65643, -8.66512 27.58948...</td>\n",
       "    </tr>\n",
       "    <tr>\n",
       "      <th>CAN</th>\n",
       "      <td>37589262.0</td>\n",
       "      <td>North America</td>\n",
       "      <td>Canada</td>\n",
       "      <td>1736425</td>\n",
       "      <td>MULTIPOLYGON (((-122.84000 49.00000, -122.9742...</td>\n",
       "    </tr>\n",
       "    <tr>\n",
       "      <th>USA</th>\n",
       "      <td>328239523.0</td>\n",
       "      <td>North America</td>\n",
       "      <td>United States of America</td>\n",
       "      <td>21433226</td>\n",
       "      <td>MULTIPOLYGON (((-122.84000 49.00000, -120.0000...</td>\n",
       "    </tr>\n",
       "  </tbody>\n",
       "</table>\n",
       "</div>"
      ],
      "text/plain": [
       "            pop_est      continent                      name  gdp_md_est  \\\n",
       "iso_a3                                                                     \n",
       "FJI        889953.0        Oceania                      Fiji        5496   \n",
       "TZA      58005463.0         Africa                  Tanzania       63177   \n",
       "ESH        603253.0         Africa                 W. Sahara         907   \n",
       "CAN      37589262.0  North America                    Canada     1736425   \n",
       "USA     328239523.0  North America  United States of America    21433226   \n",
       "\n",
       "                                                 geometry  \n",
       "iso_a3                                                     \n",
       "FJI     MULTIPOLYGON (((180.00000 -16.06713, 180.00000...  \n",
       "TZA     POLYGON ((33.90371 -0.95000, 34.07262 -1.05982...  \n",
       "ESH     POLYGON ((-8.66559 27.65643, -8.66512 27.58948...  \n",
       "CAN     MULTIPOLYGON (((-122.84000 49.00000, -122.9742...  \n",
       "USA     MULTIPOLYGON (((-122.84000 49.00000, -120.0000...  "
      ]
     },
     "execution_count": 13,
     "metadata": {},
     "output_type": "execute_result"
    }
   ],
   "source": [
    "#mapa\n",
    "\n",
    "world = gpd.read_file(gpd.datasets.get_path(\"naturalearth_lowres\"))\n",
    "world = world.set_index(\"iso_a3\")\n",
    "\n",
    "world.head()"
   ]
  },
  {
   "cell_type": "code",
   "execution_count": 14,
   "metadata": {
    "colab": {
     "base_uri": "https://localhost:8080/"
    },
    "id": "0qkBCMSUflw_",
    "outputId": "dd9c73f1-8324-403d-9586-844ffb584bd6"
   },
   "outputs": [
    {
     "data": {
      "text/plain": [
       "array(['Fiji', 'Tanzania', 'W. Sahara', 'Canada',\n",
       "       'United States of America', 'Kazakhstan', 'Uzbekistan',\n",
       "       'Papua New Guinea', 'Indonesia', 'Argentina', 'Chile',\n",
       "       'Dem. Rep. Congo', 'Somalia', 'Kenya', 'Sudan', 'Chad', 'Haiti',\n",
       "       'Dominican Rep.', 'Russia', 'Bahamas', 'Falkland Is.', 'Norway',\n",
       "       'Greenland', 'Fr. S. Antarctic Lands', 'Timor-Leste',\n",
       "       'South Africa', 'Lesotho', 'Mexico', 'Uruguay', 'Brazil',\n",
       "       'Bolivia', 'Peru', 'Colombia', 'Panama', 'Costa Rica', 'Nicaragua',\n",
       "       'Honduras', 'El Salvador', 'Guatemala', 'Belize', 'Venezuela',\n",
       "       'Guyana', 'Suriname', 'France', 'Ecuador', 'Puerto Rico',\n",
       "       'Jamaica', 'Cuba', 'Zimbabwe', 'Botswana', 'Namibia', 'Senegal',\n",
       "       'Mali', 'Mauritania', 'Benin', 'Niger', 'Nigeria', 'Cameroon',\n",
       "       'Togo', 'Ghana', \"Côte d'Ivoire\", 'Guinea', 'Guinea-Bissau',\n",
       "       'Liberia', 'Sierra Leone', 'Burkina Faso', 'Central African Rep.',\n",
       "       'Congo', 'Gabon', 'Eq. Guinea', 'Zambia', 'Malawi', 'Mozambique',\n",
       "       'eSwatini', 'Angola', 'Burundi', 'Israel', 'Lebanon', 'Madagascar',\n",
       "       'Palestine', 'Gambia', 'Tunisia', 'Algeria', 'Jordan',\n",
       "       'United Arab Emirates', 'Qatar', 'Kuwait', 'Iraq', 'Oman',\n",
       "       'Vanuatu', 'Cambodia', 'Thailand', 'Laos', 'Myanmar', 'Vietnam',\n",
       "       'North Korea', 'South Korea', 'Mongolia', 'India', 'Bangladesh',\n",
       "       'Bhutan', 'Nepal', 'Pakistan', 'Afghanistan', 'Tajikistan',\n",
       "       'Kyrgyzstan', 'Turkmenistan', 'Iran', 'Syria', 'Armenia', 'Sweden',\n",
       "       'Belarus', 'Ukraine', 'Poland', 'Austria', 'Hungary', 'Moldova',\n",
       "       'Romania', 'Lithuania', 'Latvia', 'Estonia', 'Germany', 'Bulgaria',\n",
       "       'Greece', 'Turkey', 'Albania', 'Croatia', 'Switzerland',\n",
       "       'Luxembourg', 'Belgium', 'Netherlands', 'Portugal', 'Spain',\n",
       "       'Ireland', 'New Caledonia', 'Solomon Is.', 'New Zealand',\n",
       "       'Australia', 'Sri Lanka', 'China', 'Taiwan', 'Italy', 'Denmark',\n",
       "       'United Kingdom', 'Iceland', 'Azerbaijan', 'Georgia',\n",
       "       'Philippines', 'Malaysia', 'Brunei', 'Slovenia', 'Finland',\n",
       "       'Slovakia', 'Czechia', 'Eritrea', 'Japan', 'Paraguay', 'Yemen',\n",
       "       'Saudi Arabia', 'Antarctica', 'N. Cyprus', 'Cyprus', 'Morocco',\n",
       "       'Egypt', 'Libya', 'Ethiopia', 'Djibouti', 'Somaliland', 'Uganda',\n",
       "       'Rwanda', 'Bosnia and Herz.', 'North Macedonia', 'Serbia',\n",
       "       'Montenegro', 'Kosovo', 'Trinidad and Tobago', 'S. Sudan'],\n",
       "      dtype=object)"
      ]
     },
     "execution_count": 14,
     "metadata": {},
     "output_type": "execute_result"
    }
   ],
   "source": [
    "#graficar el mapa\n",
    "world.name.unique()"
   ]
  },
  {
   "cell_type": "code",
   "execution_count": 15,
   "metadata": {
    "colab": {
     "base_uri": "https://localhost:8080/",
     "height": 476
    },
    "id": "swDogh7dfusl",
    "outputId": "666073c5-77ef-4a17-d146-5d7be00e6f1d"
   },
   "outputs": [
    {
     "data": {
      "image/png": "[encoded data removed]",
      "text/plain": [
       "<Figure size 720x720 with 1 Axes>"
      ]
     },
     "metadata": {},
     "output_type": "display_data"
    }
   ],
   "source": [
    "fig, gax = plt.subplots(figsize=(10,10))\n",
    "\n",
    "# By only plotting rows in which the continent is 'South America' we only plot SA.\n",
    "world.query(\"name == 'United States of America'\").plot(ax=gax, edgecolor='black',color='white')\n",
    "\n",
    "# By the way, if you haven't read the book 'longitude' by Dava Sobel, you should...\n",
    "gax.set_xlabel('longitude')\n",
    "gax.set_ylabel('latitude')\n",
    "\n",
    "gax.spines['top'].set_visible(False)\n",
    "gax.spines['right'].set_visible(False)"
   ]
  },
  {
   "cell_type": "code",
   "execution_count": 16,
   "metadata": {
    "colab": {
     "base_uri": "https://localhost:8080/",
     "height": 381
    },
    "id": "OR0ydTOvf_Xp",
    "outputId": "9138b4b8-6c2f-4887-bb39-b34e92c6aac4"
   },
   "outputs": [
    {
     "data": {
      "image/png": "[encoded data removed]",
      "text/plain": [
       "<Figure size 720x720 with 1 Axes>"
      ]
     },
     "metadata": {},
     "output_type": "display_data"
    }
   ],
   "source": [
    "# Step 3: Plot the cities onto the map\n",
    "# We mostly use the code from before --- we still want the country borders plotted --- and we\n",
    "# add a command to plot the cities\n",
    "fig, gax = plt.subplots(figsize=(10,10))\n",
    "\n",
    "# By only plotting rows in which the continent is 'South America' we only plot, well,\n",
    "# South America.\n",
    "world.query(\"name == 'United States of America'\").plot(ax = gax, edgecolor='black', color='white')\n",
    "\n",
    "# This plot the cities. It's the same syntax, but we are plotting from a different GeoDataFrame.\n",
    "# I want the cities as pale red dots.\n",
    "gdf.plot(ax=gax, color='red', alpha = 0.5)\n",
    "\n",
    "gax.set_xlabel('longitude')\n",
    "gax.set_ylabel('latitude')\n",
    "gax.set_title('Target en Estados Unidos')\n",
    "\n",
    "gax.spines['top'].set_visible(False)\n",
    "gax.spines['right'].set_visible(False)\n",
    "\n",
    "plt.show()"
   ]
  },
  {
   "cell_type": "markdown",
   "metadata": {
    "id": "SMkonhsqfgSf"
   },
   "source": [
    "¿qué tal ahora?, tiene mayor sentido verdad, entonces los datos lejanos no eran atípicos, de aquí la importancia de ver los datos con el tipo de gráfica correcta.\n",
    "\n",
    "Ahora sí, implementa K means a los datos de latitud y longitud :) y encuentra donde colocar los almacenes. \n",
    "\n",
    "Nota: si te llama la atención implementar alguna otra visualización con otra librería, lo puedes hacer, no hay restricciones."
   ]
  },
  {
   "cell_type": "markdown",
   "metadata": {},
   "source": [
    "¿Cómo elegiste el número de almacenes?, justifica tu respuesta técnicamente.\n"
   ]
  },
  {
   "cell_type": "code",
   "execution_count": 17,
   "metadata": {
    "id": "IfXq2ieSgD2e"
   },
   "outputs": [
    {
     "name": "stderr",
     "output_type": "stream",
     "text": [
      "C:\\Users\\testr\\anaconda3\\lib\\site-packages\\sklearn\\cluster\\_kmeans.py:1036: UserWarning: KMeans is known to have a memory leak on Windows with MKL, when there are less chunks than available threads. You can avoid it by setting the environment variable OMP_NUM_THREADS=8.\n",
      "  warnings.warn(\n"
     ]
    },
    {
     "data": {
      "image/png": "[encoded data removed]",
      "text/plain": [
       "<Figure size 432x288 with 1 Axes>"
      ]
     },
     "metadata": {},
     "output_type": "display_data"
    }
   ],
   "source": [
    "from sklearn.cluster import KMeans\n",
    "K_clusters = range(1,10)\n",
    "kmeans = [KMeans(n_clusters=i) for i in K_clusters]\n",
    "\n",
    "Y_axis = latlong[['latitude']]\n",
    "X_axis = latlong[['longitude']]\n",
    "score = [kmeans[i].fit(Y_axis).score(Y_axis) for i in range(len(kmeans))] \n",
    "\n",
    "\n",
    "# Visualize\n",
    "plt.plot(K_clusters, score)\n",
    "plt.xlabel('Clusters')\n",
    "plt.ylabel('Y')\n",
    "plt.title('Elbow Curve')\n",
    "plt.show()\n",
    "\n"
   ]
  },
  {
   "cell_type": "markdown",
   "metadata": {},
   "source": [
    "la regla de codo nos dice que por cambios en la pendientes de las interseccions de cada nodo, nos indican un descenso gradual de cada componente, por lo cual nos es util  quedarnos en este caso con 3 clusters de datos\n"
   ]
  },
  {
   "cell_type": "code",
   "execution_count": 18,
   "metadata": {},
   "outputs": [
    {
     "data": {
      "text/plain": [
       "array([2, 2, 2, ..., 1, 2, 1])"
      ]
     },
     "execution_count": 18,
     "metadata": {},
     "output_type": "execute_result"
    }
   ],
   "source": [
    "kmeans = KMeans(n_clusters = 3, init ='k-means++')\n",
    "kmeans.fit(latlong[latlong.columns[0:2]])\n",
    "labels = kmeans.labels_\n",
    "labels"
   ]
  },
  {
   "cell_type": "code",
   "execution_count": null,
   "metadata": {},
   "outputs": [],
   "source": []
  },
  {
   "cell_type": "code",
   "execution_count": 37,
   "metadata": {},
   "outputs": [
    {
     "data": {
      "text/html": [
       "<div>\n",
       "<style scoped>\n",
       "    .dataframe tbody tr th:only-of-type {\n",
       "        vertical-align: middle;\n",
       "    }\n",
       "\n",
       "    .dataframe tbody tr th {\n",
       "        vertical-align: top;\n",
       "    }\n",
       "\n",
       "    .dataframe thead th {\n",
       "        text-align: right;\n",
       "    }\n",
       "</style>\n",
       "<table border=\"1\" class=\"dataframe\">\n",
       "  <thead>\n",
       "    <tr style=\"text-align: right;\">\n",
       "      <th></th>\n",
       "      <th>0</th>\n",
       "      <th>1</th>\n",
       "      <th>Coordinates</th>\n",
       "    </tr>\n",
       "  </thead>\n",
       "  <tbody>\n",
       "    <tr>\n",
       "      <th>0</th>\n",
       "      <td>-118.624473</td>\n",
       "      <td>37.487342</td>\n",
       "      <td>POINT (-118.62447 37.48734)</td>\n",
       "    </tr>\n",
       "    <tr>\n",
       "      <th>1</th>\n",
       "      <td>-78.569908</td>\n",
       "      <td>37.789554</td>\n",
       "      <td>POINT (-78.56991 37.78955)</td>\n",
       "    </tr>\n",
       "    <tr>\n",
       "      <th>2</th>\n",
       "      <td>-93.327172</td>\n",
       "      <td>37.980063</td>\n",
       "      <td>POINT (-93.32717 37.98006)</td>\n",
       "    </tr>\n",
       "  </tbody>\n",
       "</table>\n",
       "</div>"
      ],
      "text/plain": [
       "            0          1                  Coordinates\n",
       "0 -118.624473  37.487342  POINT (-118.62447 37.48734)\n",
       "1  -78.569908  37.789554   POINT (-78.56991 37.78955)\n",
       "2  -93.327172  37.980063   POINT (-93.32717 37.98006)"
      ]
     },
     "execution_count": 37,
     "metadata": {},
     "output_type": "execute_result"
    }
   ],
   "source": [
    "X = df[[\"longitude\",\"latitude\"]]\n",
    "\n",
    "kmeans = KMeans(n_clusters=3).fit(X) \n",
    "centroids = kmeans.cluster_centers_\n",
    "labels = kmeans.predict(X) \n",
    "\n",
    "C = kmeans.cluster_centers_\n",
    "\n",
    "C_DF = pd.DataFrame(C) \n",
    "C_DF[\"Coordinates\"] = list(zip(C_DF[0], C_DF[1])) \n",
    "C_DF[\"Coordinates\"] = C_DF[\"Coordinates\"].apply(Point) \n",
    "\n",
    "\n",
    "gdf_C = gpd.GeoDataFrame(C_DF, geometry=\"Coordinates\") \n",
    "gdf_C\n"
   ]
  },
  {
   "cell_type": "code",
   "execution_count": 38,
   "metadata": {},
   "outputs": [
    {
     "data": {
      "text/html": [
       "<div>\n",
       "<style scoped>\n",
       "    .dataframe tbody tr th:only-of-type {\n",
       "        vertical-align: middle;\n",
       "    }\n",
       "\n",
       "    .dataframe tbody tr th {\n",
       "        vertical-align: top;\n",
       "    }\n",
       "\n",
       "    .dataframe thead th {\n",
       "        text-align: right;\n",
       "    }\n",
       "</style>\n",
       "<table border=\"1\" class=\"dataframe\">\n",
       "  <thead>\n",
       "    <tr style=\"text-align: right;\">\n",
       "      <th></th>\n",
       "      <th>0</th>\n",
       "      <th>1</th>\n",
       "      <th>Coordinates</th>\n",
       "    </tr>\n",
       "  </thead>\n",
       "  <tbody>\n",
       "    <tr>\n",
       "      <th>0</th>\n",
       "      <td>True</td>\n",
       "      <td>True</td>\n",
       "      <td>True</td>\n",
       "    </tr>\n",
       "    <tr>\n",
       "      <th>1</th>\n",
       "      <td>True</td>\n",
       "      <td>True</td>\n",
       "      <td>True</td>\n",
       "    </tr>\n",
       "    <tr>\n",
       "      <th>2</th>\n",
       "      <td>True</td>\n",
       "      <td>True</td>\n",
       "      <td>True</td>\n",
       "    </tr>\n",
       "  </tbody>\n",
       "</table>\n",
       "</div>"
      ],
      "text/plain": [
       "      0     1  Coordinates\n",
       "0  True  True         True\n",
       "1  True  True         True\n",
       "2  True  True         True"
      ]
     },
     "execution_count": 38,
     "metadata": {},
     "output_type": "execute_result"
    }
   ],
   "source": [
    "C_DF == gdf_C"
   ]
  },
  {
   "cell_type": "code",
   "execution_count": 40,
   "metadata": {},
   "outputs": [
    {
     "data": {
      "image/png": "[encoded data removed]",
      "text/plain": [
       "<Figure size 1080x720 with 1 Axes>"
      ]
     },
     "metadata": {},
     "output_type": "display_data"
    }
   ],
   "source": [
    "fig, gax = plt.subplots(figsize=(15,10))\n",
    "world.query(\"name == 'United States of America'\").plot(ax = gax, edgecolor='black', color='white') \n",
    "\n",
    "gdf.plot(ax=gax, color='red', alpha = 0.5)\n",
    "gdf_C.plot(ax=gax, color='blue', alpha = 1, markersize = 300)\n",
    "\n",
    "gax.set_xlabel('longitude')\n",
    "gax.set_ylabel('latitude')\n",
    "gax.set_title('Target en Estados Unidos')\n",
    "\n",
    "gax.spines['top'].set_visible(False)\n",
    "gax.spines['right'].set_visible(False)\n",
    "\n",
    "plt.show()\n"
   ]
  },
  {
   "cell_type": "markdown",
   "metadata": {},
   "source": []
  },
  {
   "cell_type": "code",
   "execution_count": 21,
   "metadata": {},
   "outputs": [
    {
     "name": "stdout",
     "output_type": "stream",
     "text": [
      "37.78260864094775, -78.53438980340219\n",
      "37.987913635657684, -93.27994961093502\n",
      "37.48734203064935, -118.62447331844157\n"
     ]
    }
   ],
   "source": [
    "\n",
    "Location1 = str(gdf_C[1][0]) + \", \" + str(gdf_C[0][0]) \n",
    "print(Location1)\n",
    "Location2 = str(gdf_C[1][1]) + \", \" + str(gdf_C[0][1])\n",
    "print(Location2)\n",
    "Location3 = str(gdf_C[1][2]) + \", \" + str(gdf_C[0][2])\n",
    "print(Location3)\n"
   ]
  },
  {
   "cell_type": "markdown",
   "metadata": {},
   "source": [
    "Encuentra las latitudes y longitudes de los almacenes, ¿qué ciudad es?, , "
   ]
  },
  {
   "cell_type": "code",
   "execution_count": 31,
   "metadata": {},
   "outputs": [
    {
     "name": "stdout",
     "output_type": "stream",
     "text": [
      "almacen  1 James River Road, Scottsville, Albemarle County, Virginia, 24590, United States\n",
      "almacen  2 State Highway U, Hickory County, Missouri, 65668, United States\n",
      "almacen  3 Paradise Estates, Mono County, California, United States\n"
     ]
    }
   ],
   "source": [
    "\n",
    "from geopy.geocoders.yandex import Location\n",
    "from geopy.geocoders import Nominatim \n",
    "from geopy.distance import geodesic\n",
    "\n",
    "geolocator = Nominatim(user_agent=\"http\") \n",
    "Locations = [Location1, Location2, Location3] \n",
    "x = 0\n",
    "for i in Locations:\n",
    "    x +=1\n",
    "    location = geolocator.reverse(i) \n",
    "    print('almacen ',x, location.address)\n",
    "\n"
   ]
  },
  {
   "cell_type": "markdown",
   "metadata": {},
   "source": [
    "¿a cuantas tiendas va surtir?"
   ]
  },
  {
   "cell_type": "code",
   "execution_count": 25,
   "metadata": {},
   "outputs": [
    {
     "name": "stderr",
     "output_type": "stream",
     "text": [
      "C:\\Users\\testr\\AppData\\Local\\Temp\\ipykernel_16308\\594088977.py:1: SettingWithCopyWarning: \n",
      "A value is trying to be set on a copy of a slice from a DataFrame.\n",
      "Try using .loc[row_indexer,col_indexer] = value instead\n",
      "\n",
      "See the caveats in the documentation: https://pandas.pydata.org/pandas-docs/stable/user_guide/indexing.html#returning-a-view-versus-a-copy\n",
      "  latlong['kmeans'] = kmeans.labels_\n"
     ]
    },
    {
     "data": {
      "text/plain": [
       "1839"
      ]
     },
     "execution_count": 25,
     "metadata": {},
     "output_type": "execute_result"
    }
   ],
   "source": [
    "latlong['kmeans'] = kmeans.labels_  \n",
    "latlong.loc[:, 'kmeans'].value_counts()\n",
    "latlong.loc[:, 'kmeans'].value_counts().sum()"
   ]
  },
  {
   "cell_type": "code",
   "execution_count": null,
   "metadata": {},
   "outputs": [],
   "source": []
  },
  {
   "cell_type": "markdown",
   "metadata": {},
   "source": [
    "¿sabes a que distancia estará?"
   ]
  },
  {
   "cell_type": "code",
   "execution_count": 24,
   "metadata": {},
   "outputs": [
    {
     "name": "stdout",
     "output_type": "stream",
     "text": [
      "\n",
      "Distancia entre el primer y segundo almacén :  1295.997385147  Km \n",
      "\n",
      "Distancia entre el segundo y tercer almacén :  2227.751441277044  Km \n",
      "\n",
      "Distancia entre el segundo y tercer almacén :  3511.0344877546113  Km \n",
      "\n"
     ]
    }
   ],
   "source": [
    "#Aqui sacamos las distancias entre los 3 almacenes\n",
    "\n",
    "distancia1 = str(geodesic(Location1, Location2).kilometers)\n",
    "print(\"\\nDistancia entre el primer y segundo almacén : \", distancia1, \" Km \\n\") \n",
    "distancia2 = str(geodesic(Location2, Location3).kilometers)\n",
    "print(\"Distancia entre el segundo y tercer almacén : \", distancia2, \" Km \\n\")\n",
    "\n",
    "distancia3 = str(geodesic(Location1, Location3).kilometers)\n",
    "print(\"Distancia entre el segundo y tercer almacén : \", distancia3, \" Km \\n\")\n",
    "\n",
    "\n",
    "#type(distancia1)\n",
    "#int(distancia1)\n"
   ]
  },
  {
   "cell_type": "code",
   "execution_count": null,
   "metadata": {},
   "outputs": [],
   "source": []
  }
 ],
 "metadata": {
  "colab": {
   "provenance": []
  },
  "kernelspec": {
   "display_name": "Python 3 (ipykernel)",
   "language": "python",
   "name": "python3"
  },
  "language_info": {
   "codemirror_mode": {
    "name": "ipython",
    "version": 3
   },
   "file_extension": ".py",
   "mimetype": "text/x-python",
   "name": "python",
   "nbconvert_exporter": "python",
   "pygments_lexer": "ipython3",
   "version": "3.9.12"
  }
 },
 "nbformat": 4,
 "nbformat_minor": 1
}
